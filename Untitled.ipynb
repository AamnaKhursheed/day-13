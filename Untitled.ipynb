{
 "cells": [
  {
   "cell_type": "code",
   "execution_count": 6,
   "metadata": {},
   "outputs": [
    {
     "data": {
      "text/plain": [
       "-1"
      ]
     },
     "execution_count": 6,
     "metadata": {},
     "output_type": "execute_result"
    }
   ],
   "source": [
    "import cv2 as cv\n",
    "import numpy as np\n",
    "\n",
    "image=cv.imread('Thanos.jpeg')\n",
    "cv.imshow('original',image)\n",
    "cv.waitKey(0)\n",
    "\n",
    "#resizing\n",
    "h1=100\n",
    "w1=300\n",
    "dimension = (w1, h1) \n",
    "resized_image = cv.resize(image, dimension, interpolation = cv.INTER_AREA)\n",
    "cv.imshow(\"resized\", resized_image)\n",
    "cv.waitKey(0)\n",
    "\n",
    "#Rotation\n",
    "(h1, w1) = image.shape[:2]\n",
    "center = (w1 / 2, h1 / 2)\n",
    "Matrix = cv.getRotationMatrix2D(center, 180, 1.0)\n",
    "rotated_image = cv.warpAffine(image, Matrix, (w1, h1)) #size of o/p img having width and height\n",
    "cv.imshow(\"rotated\", rotated_image)\n",
    "cv.waitKey(0)\n",
    "\n",
    "#cropping\n",
    "cropped_image = image[70:140, 100:200]\n",
    "cv.imshow(\"cropped\", cropped_image)\n",
    "cv.waitKey(0)"
   ]
  },
  {
   "cell_type": "code",
   "execution_count": null,
   "metadata": {},
   "outputs": [],
   "source": []
  }
 ],
 "metadata": {
  "kernelspec": {
   "display_name": "Python 3",
   "language": "python",
   "name": "python3"
  },
  "language_info": {
   "codemirror_mode": {
    "name": "ipython",
    "version": 3
   },
   "file_extension": ".py",
   "mimetype": "text/x-python",
   "name": "python",
   "nbconvert_exporter": "python",
   "pygments_lexer": "ipython3",
   "version": "3.7.4"
  }
 },
 "nbformat": 4,
 "nbformat_minor": 2
}
